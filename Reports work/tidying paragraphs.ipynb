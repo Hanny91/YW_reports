{
 "cells": [
  {
   "cell_type": "markdown",
   "metadata": {},
   "source": [
    "\"\"\" Pre-processing reports in order to be able to label each paragraph of each report\"\"\""
   ]
  },
  {
   "cell_type": "code",
   "execution_count": 129,
   "metadata": {},
   "outputs": [
    {
     "data": {
      "text/html": [
       "<div>\n",
       "<style scoped>\n",
       "    .dataframe tbody tr th:only-of-type {\n",
       "        vertical-align: middle;\n",
       "    }\n",
       "\n",
       "    .dataframe tbody tr th {\n",
       "        vertical-align: top;\n",
       "    }\n",
       "\n",
       "    .dataframe thead th {\n",
       "        text-align: right;\n",
       "    }\n",
       "</style>\n",
       "<table border=\"1\" class=\"dataframe\">\n",
       "  <thead>\n",
       "    <tr style=\"text-align: right;\">\n",
       "      <th></th>\n",
       "      <th>report</th>\n",
       "      <th>label</th>\n",
       "    </tr>\n",
       "  </thead>\n",
       "  <tbody>\n",
       "    <tr>\n",
       "      <th>0</th>\n",
       "      <td>Malik arrived with a defiant attitude, refusin...</td>\n",
       "      <td>not yet</td>\n",
       "    </tr>\n",
       "    <tr>\n",
       "      <th>1</th>\n",
       "      <td>Grey skies and a persistent drizzle set a gloo...</td>\n",
       "      <td>not yet</td>\n",
       "    </tr>\n",
       "    <tr>\n",
       "      <th>2</th>\n",
       "      <td>Autumn leaves crunched underfoot as Malik arri...</td>\n",
       "      <td>not yet</td>\n",
       "    </tr>\n",
       "    <tr>\n",
       "      <th>3</th>\n",
       "      <td>Cold wind whipped through the trees as Malik a...</td>\n",
       "      <td>not yet</td>\n",
       "    </tr>\n",
       "    <tr>\n",
       "      <th>4</th>\n",
       "      <td>The first hard frost of the season coated the ...</td>\n",
       "      <td>not yet</td>\n",
       "    </tr>\n",
       "  </tbody>\n",
       "</table>\n",
       "</div>"
      ],
      "text/plain": [
       "                                              report    label\n",
       "0  Malik arrived with a defiant attitude, refusin...  not yet\n",
       "1  Grey skies and a persistent drizzle set a gloo...  not yet\n",
       "2  Autumn leaves crunched underfoot as Malik arri...  not yet\n",
       "3  Cold wind whipped through the trees as Malik a...  not yet\n",
       "4  The first hard frost of the season coated the ...  not yet"
      ]
     },
     "execution_count": 129,
     "metadata": {},
     "output_type": "execute_result"
    }
   ],
   "source": [
    "import pandas as pd\n",
    "\n",
    "rep_lbl = pd.read_csv('mock_lbl.tsv', sep='\\t')\n",
    "rep_lbl['label'] = 'not yet'\n",
    "rep_lbl.head()"
   ]
  },
  {
   "cell_type": "code",
   "execution_count": 130,
   "metadata": {},
   "outputs": [],
   "source": [
    "# Separating paragraphs from the same report\n",
    "rep_lbl['report'] = rep_lbl['report'].str.split('\\\\\\\\n')\n",
    "rep_lbl = rep_lbl.explode('report').reset_index(drop=True)\n",
    "\n"
   ]
  },
  {
   "cell_type": "code",
   "execution_count": 131,
   "metadata": {},
   "outputs": [
    {
     "data": {
      "text/html": [
       "<div>\n",
       "<style scoped>\n",
       "    .dataframe tbody tr th:only-of-type {\n",
       "        vertical-align: middle;\n",
       "    }\n",
       "\n",
       "    .dataframe tbody tr th {\n",
       "        vertical-align: top;\n",
       "    }\n",
       "\n",
       "    .dataframe thead th {\n",
       "        text-align: right;\n",
       "    }\n",
       "</style>\n",
       "<table border=\"1\" class=\"dataframe\">\n",
       "  <thead>\n",
       "    <tr style=\"text-align: right;\">\n",
       "      <th></th>\n",
       "      <th>report</th>\n",
       "      <th>label</th>\n",
       "    </tr>\n",
       "  </thead>\n",
       "  <tbody>\n",
       "    <tr>\n",
       "      <th>0</th>\n",
       "      <td>Malik arrived with a defiant attitude, refusin...</td>\n",
       "      <td>not yet</td>\n",
       "    </tr>\n",
       "    <tr>\n",
       "      <th>1</th>\n",
       "      <td>I gave Malik space while casually chatting ab...</td>\n",
       "      <td>not yet</td>\n",
       "    </tr>\n",
       "    <tr>\n",
       "      <th>2</th>\n",
       "      <td>Suggesting a kickabout, Malik perked up sligh...</td>\n",
       "      <td>not yet</td>\n",
       "    </tr>\n",
       "    <tr>\n",
       "      <th>3</th>\n",
       "      <td>During lunch, Malik sat alone, scrolling his ...</td>\n",
       "      <td>not yet</td>\n",
       "    </tr>\n",
       "    <tr>\n",
       "      <th>4</th>\n",
       "      <td>In the afternoon, I introduced Malik to the b...</td>\n",
       "      <td>not yet</td>\n",
       "    </tr>\n",
       "  </tbody>\n",
       "</table>\n",
       "</div>"
      ],
      "text/plain": [
       "                                              report    label\n",
       "0  Malik arrived with a defiant attitude, refusin...  not yet\n",
       "1   I gave Malik space while casually chatting ab...  not yet\n",
       "2   Suggesting a kickabout, Malik perked up sligh...  not yet\n",
       "3   During lunch, Malik sat alone, scrolling his ...  not yet\n",
       "4   In the afternoon, I introduced Malik to the b...  not yet"
      ]
     },
     "execution_count": 131,
     "metadata": {},
     "output_type": "execute_result"
    }
   ],
   "source": [
    "rep_lbl['report'] = rep_lbl['report'].str.strip('\\\\t')\n",
    "rep_lbl.head()"
   ]
  },
  {
   "cell_type": "code",
   "execution_count": 132,
   "metadata": {},
   "outputs": [],
   "source": [
    "rep_lbl.to_csv('rep_lbl.tsv', sep='\\t', index=False)"
   ]
  }
 ],
 "metadata": {
  "kernelspec": {
   "display_name": "Python 3",
   "language": "python",
   "name": "python3"
  },
  "language_info": {
   "codemirror_mode": {
    "name": "ipython",
    "version": 3
   },
   "file_extension": ".py",
   "mimetype": "text/x-python",
   "name": "python",
   "nbconvert_exporter": "python",
   "pygments_lexer": "ipython3",
   "version": "3.12.2"
  }
 },
 "nbformat": 4,
 "nbformat_minor": 2
}
